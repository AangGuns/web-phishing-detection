{
 "cells": [
  {
   "cell_type": "code",
   "execution_count": 1,
   "metadata": {},
   "outputs": [],
   "source": [
    "import os\n",
    "import phishing_detection\n",
    "from flask import Flask\n",
    "from flask import (\n",
    "    Blueprint, flash, g, redirect, render_template, request, session, url_for\n",
    ")\n",
    "from flask import jsonify\n",
    "from werkzeug.utils import secure_filename\n",
    "app = Flask(__name__)"
   ]
  },
  {
   "cell_type": "code",
   "execution_count": 2,
   "metadata": {},
   "outputs": [],
   "source": [
    "UPLOAD_FOLDER= '/files'\n",
    "app.config['UPLOAD_FOLDER'] = UPLOAD_FOLDER\n",
    "ALLOWED_EXTENSIONS = set(['txt', 'pdf', 'png', 'jpg', 'jpeg', 'gif','py'])\n",
    "def allowed_file(filename):\n",
    "    return '.' in filename and \\\n",
    "           filename.rsplit('.', 1)[1].lower() in ALLOWED_EXTENSIONS"
   ]
  },
  {
   "cell_type": "code",
   "execution_count": 3,
   "metadata": {},
   "outputs": [],
   "source": [
    "@app.route('/result')\n",
    "def result():\n",
    "    urlname  = request.args['name']\n",
    "    result  = phishing_detection.getResult(urlname)\n",
    "    return result"
   ]
  },
  {
   "cell_type": "code",
   "execution_count": 4,
   "metadata": {},
   "outputs": [],
   "source": [
    "# @app.route('/upload')\n",
    "# def upload():\n",
    "# \treturn 'yes'\n",
    "\n",
    "@app.route('/', methods = ['GET', 'POST'])\n",
    "def hello():\n",
    "\tif request.method == 'POST':\n",
    "\t\tif 'file' not in request.files:\n",
    "\t\t\tflash('no file part')\n",
    "\t\t\treturn \"false\"\n",
    "\t\tfile = request.files['file']\n",
    "\t\tif file.filename == '':\n",
    "\t\t\tflash('no select file')\n",
    "\t\t\treturn 'false'\n",
    "\t\tif file and allowed_file(file.filename):\n",
    "\t\t\tfilename = secure_filename(file.filename)\n",
    "\t\t\tcontents = file.read()\n",
    "\t\t\twith open(\"files/URL.txt\",\"wb\") as f:\n",
    "\t\t\t\tf.write(contents)\n",
    "\t\t\tfile.save = (os.path.join(app.config['UPLOAD_FOLDER'], filename))\n",
    "\t\t\treturn render_template(\"getInput.html\")\n",
    "\treturn  render_template(\"getInput.html\")"
   ]
  },
  {
   "cell_type": "code",
   "execution_count": null,
   "metadata": {},
   "outputs": [],
   "source": []
  }
 ],
 "metadata": {
  "kernelspec": {
   "name": "python37864bit0db39d5e09a743feaa6dafb8f93be159",
   "display_name": "Python 3.7.8 64-bit"
  }
 },
 "nbformat": 4,
 "nbformat_minor": 4
}